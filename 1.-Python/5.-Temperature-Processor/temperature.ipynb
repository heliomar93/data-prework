{
  "nbformat": 4,
  "nbformat_minor": 0,
  "metadata": {
    "kernelspec": {
      "display_name": "Python 3",
      "language": "python",
      "name": "python3"
    },
    "language_info": {
      "codemirror_mode": {
        "name": "ipython",
        "version": 3
      },
      "file_extension": ".py",
      "mimetype": "text/x-python",
      "name": "python",
      "nbconvert_exporter": "python",
      "pygments_lexer": "ipython3",
      "version": "3.7.2"
    },
    "colab": {
      "name": "temperature.ipynb",
      "provenance": [],
      "collapsed_sections": []
    }
  },
  "cells": [
    {
      "cell_type": "markdown",
      "metadata": {
        "id": "Ttu2AlITGrKq"
      },
      "source": [
        "<img src=\"https://bit.ly/2VnXWr2\" width=\"100\" align=\"left\">"
      ]
    },
    {
      "cell_type": "markdown",
      "metadata": {
        "id": "Ln7F49n3GrKv"
      },
      "source": [
        "# Temperature Sensor\n",
        "\n",
        "There is a temperature sensor in the processor of your company's server. The company wants to analyze the data provided by the sensor to decide if they should change the cooling system for a better one. As changing the cooling system is expensive and you are an excellent data analyst, you can't make a decision without basis.\n",
        "\n",
        "## Tools\n",
        "You don't necessarily need to use all the tools. Maybe you opt to use some of them or completely different ones, they are given to help you shape the exercise. Programming exercises can be solved in many different ways.\n",
        "1. Data structures: **lists**\n",
        "2. Loops: **list comprehension**\n",
        "3. Functions: **min, max, print, len**\n",
        "4. Conditional statements: **if-elif-else**\n",
        "\n",
        "## Tasks\n",
        "The temperatures measured throughout the 24 hours of a day are:"
      ]
    },
    {
      "cell_type": "code",
      "metadata": {
        "id": "WureG1D0GrK0"
      },
      "source": [
        "temperatures_C = [33, 66, 65, 0, 59, 60, 62, 64, 70, 76, 80, 81, 80, 83, 90, 79, 61, 53, 50, 49, 53, 48, 45, 39]"
      ],
      "execution_count": null,
      "outputs": []
    },
    {
      "cell_type": "markdown",
      "metadata": {
        "id": "oxnpLF-3GrLL"
      },
      "source": [
        "The first element of the list is the temperature at 12am, the second element is the temperature at 1am, and so on. \n",
        "\n",
        "The company has decided that if one of the following events occurs, then the cooling system needs to be replaced for a new one to avoid damaging the processor.\n",
        "* More than 4 temperatures are greater than or equal to 70ºC.\n",
        "* Any temperature is above 80ºC.\n",
        "* The average temperature exceeds 65ºC.\n",
        "\n",
        "Follow the steps so that you can make the decision.\n",
        "\n",
        "#### 1. Find the minimum temperature of the day and store it in a variable."
      ]
    },
    {
      "cell_type": "code",
      "metadata": {
        "id": "ePnDrB15GrLP",
        "outputId": "2e37dafc-4afe-4ab0-dfad-5059523693b0",
        "colab": {
          "base_uri": "https://localhost:8080/",
          "height": 35
        }
      },
      "source": [
        "temperatures_C = [33, 66, 65, 0, 59, 60, 62, 64, 70, 76, 80, 81, 80, 83, 90, 79, 61, 53, 50, 49, 53, 48, 45, 39]\n",
        "minimum_temperature=min(temperatures_C)\n",
        "print(minimum_temperature)"
      ],
      "execution_count": 4,
      "outputs": [
        {
          "output_type": "stream",
          "text": [
            "0\n"
          ],
          "name": "stdout"
        }
      ]
    },
    {
      "cell_type": "markdown",
      "metadata": {
        "id": "kX8W6wl8GrLa"
      },
      "source": [
        "#### 2. Find the maximum temperature of the day and store it in a variable."
      ]
    },
    {
      "cell_type": "code",
      "metadata": {
        "id": "HgamCeqKGrLc",
        "outputId": "0a2025ce-18c8-4b5d-9fcd-c49470b46b7b",
        "colab": {
          "base_uri": "https://localhost:8080/",
          "height": 35
        }
      },
      "source": [
        "maximum_temperature=max(temperatures_C)\n",
        "print(maximum_temperature)"
      ],
      "execution_count": 5,
      "outputs": [
        {
          "output_type": "stream",
          "text": [
            "90\n"
          ],
          "name": "stdout"
        }
      ]
    },
    {
      "cell_type": "markdown",
      "metadata": {
        "id": "fL1H1fLlGrLn"
      },
      "source": [
        "#### 3. Create a list with the temperatures that are greater than or equal to 70ºC. Store it in a variable."
      ]
    },
    {
      "cell_type": "code",
      "metadata": {
        "id": "KRez1__pGrLp",
        "outputId": "983d5a6c-ab5f-4ae7-d353-29983a67ba0f",
        "colab": {
          "base_uri": "https://localhost:8080/",
          "height": 35
        }
      },
      "source": [
        "list_of_more_than_70=[]\n",
        "for temperature in temperatures_C:\n",
        "  if temperature >= 70:\n",
        "    list_of_more_than_70.append(temperature)\n",
        "print(list_of_more_than_70)"
      ],
      "execution_count": 6,
      "outputs": [
        {
          "output_type": "stream",
          "text": [
            "[70, 76, 80, 81, 80, 83, 90, 79]\n"
          ],
          "name": "stdout"
        }
      ]
    },
    {
      "cell_type": "markdown",
      "metadata": {
        "id": "UV42GK0jGrLz"
      },
      "source": [
        "#### 4. Find the average temperature of the day and store it in a variable."
      ]
    },
    {
      "cell_type": "code",
      "metadata": {
        "id": "KWZIetcUGrL2",
        "outputId": "81213c5d-05ae-43f3-cf65-6e06ec3552cd",
        "colab": {
          "base_uri": "https://localhost:8080/",
          "height": 35
        }
      },
      "source": [
        "average_temperature=(sum(temperatures_C))/(len(temperatures_C))\n",
        "print(average_temperature)"
      ],
      "execution_count": 9,
      "outputs": [
        {
          "output_type": "stream",
          "text": [
            "61.604166666666664\n"
          ],
          "name": "stdout"
        }
      ]
    },
    {
      "cell_type": "markdown",
      "metadata": {
        "id": "32MY9CEcGrMB"
      },
      "source": [
        "#### 5. Imagine that there was a sensor failure at 3am and the data for that specific hour was not recorded. How would you estimate the missing value? Replace the current value of the list at 3am for an estimation. "
      ]
    },
    {
      "cell_type": "code",
      "metadata": {
        "id": "aUV7tlRxGrMD"
      },
      "source": [
        "temperatures_C[3]=(temperatures_C[2]+temperatures_C[3])/2"
      ],
      "execution_count": 8,
      "outputs": []
    },
    {
      "cell_type": "markdown",
      "metadata": {
        "id": "QsMtcu23GrMK"
      },
      "source": [
        "#### 6. Bonus: the maintenance staff is from the United States and does not understand the international metric system. Help them by converting the temperatures from Celsius to Fahrenheit.\n",
        "To know more about temperature conversion check this [link](https://en.wikipedia.org/wiki/Conversion_of_units_of_temperature).\n",
        "\n",
        "**Formula**: \n",
        "\n",
        "$F = 1.8 * C + 32$"
      ]
    },
    {
      "cell_type": "code",
      "metadata": {
        "id": "XJbPEBRDGrMK",
        "outputId": "d0ebdd6d-07da-4e39-9a0b-33469559e9bb",
        "colab": {
          "base_uri": "https://localhost:8080/",
          "height": 55
        }
      },
      "source": [
        "temperature_F=[]\n",
        "for temperature in temperatures_C:\n",
        "  temperature_f = 1.8 * temperature + 32\n",
        "  temperature_F.append(temperature_f)\n",
        "print(temperature_F)"
      ],
      "execution_count": 23,
      "outputs": [
        {
          "output_type": "stream",
          "text": [
            "[91.4, 150.8, 149.0, 90.5, 138.2, 140.0, 143.60000000000002, 147.2, 158.0, 168.8, 176.0, 177.8, 176.0, 181.4, 194.0, 174.20000000000002, 141.8, 127.4, 122.0, 120.2, 127.4, 118.4, 113.0, 102.2]\n"
          ],
          "name": "stdout"
        }
      ]
    },
    {
      "cell_type": "markdown",
      "metadata": {
        "id": "k-dmrPq5GrMS"
      },
      "source": [
        "#### 7. Make a decision!\n",
        "Now it's time to make a decision taking into account what you have seen until now. \n",
        "\n",
        "Remember that if one of the following events occurs, then the cooling system needs to be replaced for a new one to avoid damaging the processor.\n",
        "* More than 4 temperatures are greater than or equal to 70ºC.\n",
        "* Any temperature is above 80ºC.\n",
        "* The average temperature exceeds 65ºC.\n",
        "\n",
        "#### To make your decision, check if any of the three conditions above is met. You might need to use some of the variables you created in steps 1 to 6. Print a message to show if the cooling system needs to be changed or not."
      ]
    },
    {
      "cell_type": "code",
      "metadata": {
        "id": "_eZDmIbUGrMU",
        "outputId": "991178bf-1831-416c-995a-9d58ad1d3d53",
        "colab": {
          "base_uri": "https://localhost:8080/",
          "height": 35
        }
      },
      "source": [
        "if len(list_of_more_than_70) > 4:\n",
        "  print(\"The system has to be changed\")\n",
        "elif average_temperature > 65:\n",
        "  print(\"The System has to be changed\")\n",
        "elif temperature in temperatures_C > 80:\n",
        "  print(\"The system has to be changed\")\n",
        "else:\n",
        "  print(\"The system doesn't have to be changed\")"
      ],
      "execution_count": null,
      "outputs": [
        {
          "output_type": "stream",
          "text": [
            "The system has to be changed\n"
          ],
          "name": "stdout"
        }
      ]
    },
    {
      "cell_type": "markdown",
      "metadata": {
        "id": "uNdMDUe1GrMb"
      },
      "source": [
        "## Bonus\n",
        "\n",
        "The company has decided that the decision you made is not valid. They want you to analyze the data again but this time, the conditions that need to be met in order to change the cooling system are different.\n",
        "\n",
        "This time, if one of the following events occurs, then the cooling system needs to be replaced:\n",
        "* The temperature is greater than 70ºC during more than 4 consecutive hours.\n",
        "* Any temperature is above 80ºC.\n",
        "* The average temperature exceeds 65ºC.\n",
        "\n",
        "Follow the steps so that you can make the decision.\n",
        "\n",
        "#### 1. Create a list with the hours where the temperature is greater than 70ºC. Store it in a variable."
      ]
    },
    {
      "cell_type": "code",
      "metadata": {
        "id": "Bq9DXSRpGrMd",
        "outputId": "0fd2423b-f9ea-4c59-c009-344a3cab440c",
        "colab": {
          "base_uri": "https://localhost:8080/",
          "height": 35
        }
      },
      "source": [
        "greater_than_70 = []\n",
        "for i in range(len(temperatures_C)):\n",
        "    if temperatures_C[i] > 70:\n",
        "        greater_than_70.append(i)\n",
        "print(greater_than_70)"
      ],
      "execution_count": 19,
      "outputs": [
        {
          "output_type": "stream",
          "text": [
            "[9, 10, 11, 12, 13, 14, 15]\n"
          ],
          "name": "stdout"
        }
      ]
    },
    {
      "cell_type": "markdown",
      "metadata": {
        "id": "yWF29cW-GrMl"
      },
      "source": [
        "#### 2. Check if the list you created in step 1 has more than 4 consecutive hours. "
      ]
    },
    {
      "cell_type": "code",
      "metadata": {
        "id": "DV7l1nabGrMn",
        "outputId": "0faa53ec-b77a-4ece-8f5c-1c8b86ce91e0",
        "colab": {
          "base_uri": "https://localhost:8080/",
          "height": 35
        }
      },
      "source": [
        "last_item=(len(greater_than_70)-3)\n",
        "for i in range(last_item):\n",
        "  iplus1 = i + 1\n",
        "  iplus2 = i + 2\n",
        "  iplus3 = i + 3\n",
        "  if greater_than_70[iplus1] == greater_than_70[i+1]:\n",
        "    if greater_than_70[iplus2] == greater_than_70[i+2]:\n",
        "      if greater_than_70[iplus3] == greater_than_70[i+3]:\n",
        "        print(\"Have to be changed\")\n",
        "        break\n",
        "      else:\n",
        "        continue\n",
        "    else:\n",
        "      continue\n",
        "  else:\n",
        "    print(\"Doesn't have to be changed\")  \n"
      ],
      "execution_count": 39,
      "outputs": [
        {
          "output_type": "stream",
          "text": [
            "Have to be changed\n"
          ],
          "name": "stdout"
        }
      ]
    },
    {
      "cell_type": "markdown",
      "metadata": {
        "id": "Mgi4wRkuGrMw"
      },
      "source": [
        "#### 3. Make the decision!\n",
        "To make your decision, check if any of the three conditions is met. Print a message to show if the cooling system needs to be changed or not."
      ]
    },
    {
      "cell_type": "code",
      "metadata": {
        "id": "EF1ERbohGrMy",
        "outputId": "fc1bf6f7-a040-41ab-897a-eb8a8d0f45eb",
        "colab": {
          "base_uri": "https://localhost:8080/",
          "height": 35
        }
      },
      "source": [
        "last_item=(len(greater_than_70)-3)\n",
        "for i in range(last_item):\n",
        "  iplus1 = i + 1\n",
        "  iplus2 = i + 2\n",
        "  iplus3 = i + 3\n",
        "  if greater_than_70[iplus1] == greater_than_70[i+1]:\n",
        "    if greater_than_70[iplus2] == greater_than_70[i+2]:\n",
        "      if greater_than_70[iplus3] == greater_than_70[i+3]:\n",
        "        print(\"Have to be changed\")\n",
        "        break\n",
        "      else:\n",
        "        continue\n",
        "    else:\n",
        "      continue\n",
        "  elif average_temperature > 65:\n",
        "    print(\"The System has to be changed\")\n",
        "  elif temperature in temperatures_C > 80:\n",
        "    print(\"The system has to be changed\")\n",
        "  else:\n",
        "    print(\"The system doesn't have to be changed\")"
      ],
      "execution_count": 41,
      "outputs": [
        {
          "output_type": "stream",
          "text": [
            "Have to be changed\n"
          ],
          "name": "stdout"
        }
      ]
    },
    {
      "cell_type": "markdown",
      "metadata": {
        "id": "n8GA4TwMGrM6"
      },
      "source": [
        "#### 4. Find the average value of the temperature lists (ºC and ºF). What is the relation between both average values?"
      ]
    },
    {
      "cell_type": "code",
      "metadata": {
        "id": "4tU-dnlQGrM7",
        "outputId": "b57ac273-3b20-45df-e262-9f88539e1704",
        "colab": {
          "base_uri": "https://localhost:8080/",
          "height": 35
        }
      },
      "source": [
        "import statistics\n",
        "avg_temperatures_C = statistics.mean(temperatures_C)\n",
        "avg_temperatures_F = statistics.mean(temperature_F)\n",
        "ratio=avg_temperatures_F/avg_temperatures_C\n",
        "print(ratio)"
      ],
      "execution_count": 26,
      "outputs": [
        {
          "output_type": "stream",
          "text": [
            "2.3194453838349682\n"
          ],
          "name": "stdout"
        }
      ]
    },
    {
      "cell_type": "markdown",
      "metadata": {
        "id": "nrvJRaOXGrNA"
      },
      "source": [
        "#### 5. Find the standard deviation of the temperature lists (ºC and ºF). What is the relation between both standard deviations?"
      ]
    },
    {
      "cell_type": "code",
      "metadata": {
        "id": "65j0bUFBGrNC",
        "outputId": "00444eb4-ecf2-41ea-a2b3-9e7cf51b7d7f",
        "colab": {
          "base_uri": "https://localhost:8080/",
          "height": 35
        }
      },
      "source": [
        "stdev_temperatures_C = statistics.stdev(temperatures_C)\n",
        "stdev_temperatures_F = statistics.stdev(temperature_F)\n",
        "ratio=stdev_temperatures_F/stdev_temperatures_C\n",
        "print(ratio)"
      ],
      "execution_count": 27,
      "outputs": [
        {
          "output_type": "stream",
          "text": [
            "1.8000000000000003\n"
          ],
          "name": "stdout"
        }
      ]
    }
  ]
}