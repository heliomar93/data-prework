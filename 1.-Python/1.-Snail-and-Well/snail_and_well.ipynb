{
  "nbformat": 4,
  "nbformat_minor": 0,
  "metadata": {
    "kernelspec": {
      "display_name": "Python 3",
      "language": "python",
      "name": "python3"
    },
    "language_info": {
      "codemirror_mode": {
        "name": "ipython",
        "version": 3
      },
      "file_extension": ".py",
      "mimetype": "text/x-python",
      "name": "python",
      "nbconvert_exporter": "python",
      "pygments_lexer": "ipython3",
      "version": "3.7.2"
    },
    "colab": {
      "name": "snail_and_well.ipynb",
      "provenance": [],
      "collapsed_sections": []
    }
  },
  "cells": [
    {
      "cell_type": "markdown",
      "metadata": {
        "id": "J4YXkuGkbrEN"
      },
      "source": [
        "<img src=\"https://bit.ly/2VnXWr2\" width=\"100\" align=\"left\">"
      ]
    },
    {
      "cell_type": "markdown",
      "metadata": {
        "id": "mOlr-bxPbrEQ"
      },
      "source": [
        "# The Snail and the Well\n",
        "\n",
        "A snail falls at the bottom of a 125 cm well. Each day the snail rises 30 cm. But at night, while sleeping, slides 20 cm because the walls are wet. How many days does it take for the snail to escape the well?\n",
        "\n",
        "**Hint**: The snail gets out of the well when it surpasses the 125cm of height.\n",
        "\n",
        "## Tools\n",
        "\n",
        "1. Loop: **while**\n",
        "2. Conditional statements: **if-else**\n",
        "3. Function: **print()**\n",
        "\n",
        "## Tasks\n",
        "\n",
        "#### 1. Assign the challenge data to variables with representative names: `well_height`, `daily_distance`, `nightly_distance` and `snail_position`."
      ]
    },
    {
      "cell_type": "code",
      "metadata": {
        "id": "nksWf8HGbrES"
      },
      "source": [
        "well_height=0\n",
        "daily_distance=30\n",
        "nightly_distance=-20\n",
        "snail_position=0"
      ],
      "execution_count": null,
      "outputs": []
    },
    {
      "cell_type": "markdown",
      "metadata": {
        "id": "HK6YVsCKbrEg"
      },
      "source": [
        "#### 2. Create a variable `days` to keep count of the days that pass until the snail escapes the well. "
      ]
    },
    {
      "cell_type": "code",
      "metadata": {
        "id": "M9uM17sqbrEi"
      },
      "source": [
        "days=0"
      ],
      "execution_count": null,
      "outputs": []
    },
    {
      "cell_type": "markdown",
      "metadata": {
        "id": "QLNCk7KabrEq"
      },
      "source": [
        "#### 3. Find the solution to the challenge using the variables defined above. "
      ]
    },
    {
      "cell_type": "code",
      "metadata": {
        "id": "xxlhQo57brEr"
      },
      "source": [
        "while (snail_position<=125):\n",
        "    days+=1\n",
        "    snail_position+= daily_distance\n",
        "    if (snail_position<=125):\n",
        "        snail_position= snail_position + nightly_distance\n",
        "\n",
        "\n"
      ],
      "execution_count": null,
      "outputs": []
    },
    {
      "cell_type": "markdown",
      "metadata": {
        "id": "o13ywR5_brEy"
      },
      "source": [
        "#### 4. Print the solution."
      ]
    },
    {
      "cell_type": "code",
      "metadata": {
        "id": "EkN8AR6BbrE0",
        "outputId": "bf201a56-60b2-4208-cbc9-a4f83446f592",
        "colab": {
          "base_uri": "https://localhost:8080/",
          "height": 35
        }
      },
      "source": [
        "print(\"The snail take \", days,\" to escape the well \")"
      ],
      "execution_count": null,
      "outputs": [
        {
          "output_type": "stream",
          "text": [
            "The snail take  11  to escape the well \n"
          ],
          "name": "stdout"
        }
      ]
    },
    {
      "cell_type": "markdown",
      "metadata": {
        "id": "_CHGvBG3brE6"
      },
      "source": [
        "## Bonus\n",
        "The distance traveled by the snail each day is now defined by a list.\n",
        "```\n",
        "advance_cm = [30, 21, 33, 77, 44, 45, 23, 45, 12, 34, 55]\n",
        "```\n",
        "On the first day, the snail rises 30cm but during the night it slides 20cm. On the second day, the snail rises 21cm but during the night it slides 20cm, and so on. \n",
        "\n",
        "#### 1. How many days does it take for the snail to escape the well?\n",
        "Follow the same guidelines as in the previous challenge.\n",
        "\n",
        "**Hint**: Remember that the snail gets out of the well when it surpasses the 125cm of height."
      ]
    },
    {
      "cell_type": "code",
      "metadata": {
        "id": "pIi6u3LGbrE8",
        "outputId": "963a5d04-0833-4983-ebfb-6b7263b66a3b",
        "colab": {
          "base_uri": "https://localhost:8080/",
          "height": 35
        }
      },
      "source": [
        "advance_cm = [30, 21, 33, 77, 44, 45, 23, 45, 12, 34, 55]\n",
        "days=0\n",
        "snail_position=0\n",
        "nightly_distance=-20\n",
        "position=[]\n",
        "inicial_position=0\n",
        "while (snail_position<=125):    \n",
        "    days+=1\n",
        "    daily_distance=advance_cm[days-1]    \n",
        "    snail_position+= daily_distance\n",
        "    if (snail_position<=125):\n",
        "        snail_position= snail_position + nightly_distance\n",
        "        position.append(snail_position)\n",
        "    elif (snail_position>=125):\n",
        "        position.append(125)\n",
        "\n",
        "print(\"The snail take \", days,\" to escape the well\")"
      ],
      "execution_count": 2,
      "outputs": [
        {
          "output_type": "stream",
          "text": [
            "The snail take  6  to escape the well\n"
          ],
          "name": "stdout"
        }
      ]
    },
    {
      "cell_type": "markdown",
      "metadata": {
        "id": "xpAoJ60VbrFE"
      },
      "source": [
        "#### 2. What is its maximum displacement in one day? And its minimum? Calculate the displacement using only the travel distance of the days used to get out of the well. \n",
        "**Hint**: Remember that displacement means the total distance risen taking into account that the snail slides at night.  "
      ]
    },
    {
      "cell_type": "code",
      "metadata": {
        "id": "y-L-9pOTbrFG",
        "outputId": "196b4320-8bad-401e-ba4f-27ff0308a2f8",
        "colab": {
          "base_uri": "https://localhost:8080/",
          "height": 72
        }
      },
      "source": [
        "displacement = []\n",
        "counter = 0\n",
        "for i in advance_cm[:days]:\n",
        "    if counter < (days - 1):\n",
        "        displacement.append(i + nightly_distance)\n",
        "    else:\n",
        "        displacement.append(i)\n",
        "    counter += 1\n",
        "if (sum(displacement)>125):\n",
        "  displacement[-1]=125-sum(displacement[:-1])\n",
        "maximum_displacement=max(displacement)\n",
        "minimum_displacement=min(displacement)\n",
        "print(\"Maximum displacement: \", maximum_displacement)\n",
        "print(\"Minimum displacement: \", minimum_displacement)\n",
        "print(displacement)"
      ],
      "execution_count": 3,
      "outputs": [
        {
          "output_type": "stream",
          "text": [
            "Maximum displacement:  57\n",
            "Minimum displacement:  1\n",
            "[10, 1, 13, 57, 24, 45]\n"
          ],
          "name": "stdout"
        }
      ]
    },
    {
      "cell_type": "markdown",
      "metadata": {
        "id": "F_weM77jbrFL"
      },
      "source": [
        "#### 3. What is its average progress? Take into account the snail slides at night."
      ]
    },
    {
      "cell_type": "code",
      "metadata": {
        "id": "z905RZAxbrFM",
        "outputId": "c4a65f01-ece3-4872-e889-e04058b08534",
        "colab": {
          "base_uri": "https://localhost:8080/",
          "height": 35
        }
      },
      "source": [
        "avg_progress=125/days\n",
        "print(\"Average progress: \", avg_progress)"
      ],
      "execution_count": null,
      "outputs": [
        {
          "output_type": "stream",
          "text": [
            "Average progress:  20.833333333333332\n"
          ],
          "name": "stdout"
        }
      ]
    },
    {
      "cell_type": "markdown",
      "metadata": {
        "id": "Isx2O4N9brFS"
      },
      "source": [
        "#### 4. What is the standard deviation of its displacement? Take into account the snail slides at night."
      ]
    },
    {
      "cell_type": "code",
      "metadata": {
        "id": "tn6ssOPHbrFU",
        "outputId": "deda1463-52aa-4978-c7d5-ea90b74c03b8",
        "colab": {
          "base_uri": "https://localhost:8080/",
          "height": 35
        }
      },
      "source": [
        "import statistics\n",
        "print(\"Deviation of displacement: \", statistics.stdev(displacement))"
      ],
      "execution_count": null,
      "outputs": [
        {
          "output_type": "stream",
          "text": [
            "Deviation of displacement:  21.77154105707724\n"
          ],
          "name": "stdout"
        }
      ]
    }
  ]
}