{
  "nbformat": 4,
  "nbformat_minor": 0,
  "metadata": {
    "kernelspec": {
      "display_name": "Python 3",
      "language": "python",
      "name": "python3"
    },
    "language_info": {
      "codemirror_mode": {
        "name": "ipython",
        "version": 3
      },
      "file_extension": ".py",
      "mimetype": "text/x-python",
      "name": "python",
      "nbconvert_exporter": "python",
      "pygments_lexer": "ipython3",
      "version": "3.7.2"
    },
    "colab": {
      "name": "bus.ipynb",
      "provenance": []
    }
  },
  "cells": [
    {
      "cell_type": "markdown",
      "metadata": {
        "id": "IDFPDzBwytWs"
      },
      "source": [
        "<img src=\"https://bit.ly/2VnXWr2\" width=\"100\" align=\"left\">"
      ]
    },
    {
      "cell_type": "markdown",
      "metadata": {
        "id": "DlzFR1W_ytWu"
      },
      "source": [
        "# Bus\n",
        "\n",
        "This bus has a passenger entry and exit control system to monitor the number of occupants it carries and thus detect when there are too many.\n",
        "\n",
        "At each stop, the entry and exit of passengers is represented by a tuple consisting of two integer numbers.\n",
        "```\n",
        "bus_stop = (in, out)\n",
        "```\n",
        "The succession of stops is represented by a list of these tuples.\n",
        "```\n",
        "stops = [(in1, out1), (in2, out2), (in3, out3), (in4, out4)]\n",
        "```\n",
        "\n",
        "## Tools\n",
        "You don't necessarily need to use all the tools. Maybe you opt to use some of them or completely different ones, they are given to help you shape the exercise. Programming exercises can be solved in many different ways.\n",
        "* Data structures: **lists, tuples**\n",
        "* Loop: **while/for loops**\n",
        "* Functions: **min, max, len**\n",
        "\n",
        "## Tasks"
      ]
    },
    {
      "cell_type": "code",
      "metadata": {
        "id": "Dbyx9LP0ytWx"
      },
      "source": [
        "# Variables\n",
        "stops = [(10, 0), (4, 1), (3, 5), (3, 4), (5, 1), (1, 5), (5, 8), (4, 6), (2, 3)]"
      ],
      "execution_count": 2,
      "outputs": []
    },
    {
      "cell_type": "markdown",
      "metadata": {
        "id": "s1B1z6XLytXB"
      },
      "source": [
        "#### 1. Calculate the number of stops."
      ]
    },
    {
      "cell_type": "code",
      "metadata": {
        "id": "2QBgv7yRytXG",
        "outputId": "e42bd611-8374-43fe-aefb-a1bd6ae90894",
        "colab": {
          "base_uri": "https://localhost:8080/",
          "height": 35
        }
      },
      "source": [
        "number_of_stops=len(stops)\n",
        "print(number_of_stops)"
      ],
      "execution_count": 4,
      "outputs": [
        {
          "output_type": "stream",
          "text": [
            "9\n"
          ],
          "name": "stdout"
        }
      ]
    },
    {
      "cell_type": "markdown",
      "metadata": {
        "id": "ERXGE4PiytXT"
      },
      "source": [
        "#### 2. Assign to a variable a list whose elements are the number of passengers at each stop (in-out).\n",
        "Each item depends on the previous item in the list + in - out."
      ]
    },
    {
      "cell_type": "code",
      "metadata": {
        "id": "uFutsTkbytXV",
        "outputId": "e2454095-1c30-4aaa-f05e-9cd2a032708e",
        "colab": {
          "base_uri": "https://localhost:8080/",
          "height": 54
        }
      },
      "source": [
        "i=0\n",
        "people_by_stop=[]\n",
        "for in_the_bus,out_the_bus in stops:\n",
        "  people_by_stop.append(in_the_bus-out_the_bus)\n",
        "occupation_by_time=[]\n",
        "for i in range(number_of_stops):\n",
        "    occupation_by_time.append(sum(people_by_stop[0:i+1]))\n",
        "print(people_by_stop)\n",
        "print(occupation_by_time)"
      ],
      "execution_count": 9,
      "outputs": [
        {
          "output_type": "stream",
          "text": [
            "[10, 3, -2, -1, 4, -4, -3, -2, -1]\n",
            "[10, 13, 11, 10, 14, 10, 7, 5, 4]\n"
          ],
          "name": "stdout"
        }
      ]
    },
    {
      "cell_type": "markdown",
      "metadata": {
        "id": "7wMb9PsvytXd"
      },
      "source": [
        "#### 3. Find the maximum occupation of the bus."
      ]
    },
    {
      "cell_type": "code",
      "metadata": {
        "id": "vn2kpEP4ytXf",
        "outputId": "a44ef656-ab40-4c9c-c844-d8b7e19c4980",
        "colab": {
          "base_uri": "https://localhost:8080/",
          "height": 35
        }
      },
      "source": [
        "max_occupation=max(occupation_by_time)\n",
        "print(max_occupation)"
      ],
      "execution_count": 11,
      "outputs": [
        {
          "output_type": "stream",
          "text": [
            "14\n"
          ],
          "name": "stdout"
        }
      ]
    },
    {
      "cell_type": "markdown",
      "metadata": {
        "id": "WTJ4QrRQytXx"
      },
      "source": [
        "#### 4. Calculate the average occupation. And the standard deviation."
      ]
    },
    {
      "cell_type": "code",
      "metadata": {
        "id": "4H2Ma7RJytXz"
      },
      "source": [
        "import statistics\n",
        "avg_occupation = statistics.mean(occupation_by_time)\n",
        "stdev_occupation=statistics.stdev(occupation_by_time)\n"
      ],
      "execution_count": 12,
      "outputs": []
    }
  ]
}