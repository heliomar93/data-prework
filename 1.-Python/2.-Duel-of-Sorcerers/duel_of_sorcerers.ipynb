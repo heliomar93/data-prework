{
  "nbformat": 4,
  "nbformat_minor": 0,
  "metadata": {
    "kernelspec": {
      "display_name": "Python 3",
      "language": "python",
      "name": "python3"
    },
    "language_info": {
      "codemirror_mode": {
        "name": "ipython",
        "version": 3
      },
      "file_extension": ".py",
      "mimetype": "text/x-python",
      "name": "python",
      "nbconvert_exporter": "python",
      "pygments_lexer": "ipython3",
      "version": "3.7.2"
    },
    "colab": {
      "name": "duel-of-sorcerers.ipynb",
      "provenance": []
    }
  },
  "cells": [
    {
      "cell_type": "markdown",
      "metadata": {
        "id": "KiEDuoUKjWoZ"
      },
      "source": [
        "<img src=\"https://bit.ly/2VnXWr2\" width=\"100\" align=\"left\">"
      ]
    },
    {
      "cell_type": "markdown",
      "metadata": {
        "id": "7CzsyydbjWoc"
      },
      "source": [
        "# Duel of Sorcerers\n",
        "You are witnessing an epic battle between two powerful sorcerers: Gandalf and Saruman. Each sorcerer has 10 spells of variable power in their mind and they are going to throw them one after the other. The winner of the duel will be the one who wins more of those clashes between spells. Spells are represented as a list of 10 integers whose value equals the power of the spell.\n",
        "```\n",
        "gandalf = [10, 11, 13, 30, 22, 11, 10, 33, 22, 22]\n",
        "saruman = [23, 66, 12, 43, 12, 10, 44, 23, 12, 17]\n",
        "```\n",
        "For example:\n",
        "- The first clash is won by Saruman: 10 against 23.\n",
        "- The second clash is won by Saruman: 11 against 66.\n",
        "- ...\n",
        "\n",
        "You will create two variables, one for each sorcerer, where the sum of clashes won will be stored. Depending on which variable is greater at the end of the duel, you will show one of the following three results on the screen:\n",
        "* Gandalf wins\n",
        "* Saruman wins\n",
        "* Tie\n",
        "\n",
        "<img src=\"images/content_lightning_bolt_big.jpg\" width=\"400\">"
      ]
    },
    {
      "cell_type": "markdown",
      "metadata": {
        "id": "pBZk_4HGjWoe"
      },
      "source": [
        "## Tools\n",
        "You don't necessarily need to use all the tools. Maybe you opt to use some of them or completely different ones, they are given to help you shape the exercise. Programming exercises can be solved in many different ways.\n",
        "\n",
        "1. Data structures: **lists, dictionaries**\n",
        "2. Loop: **for loop**\n",
        "3. Conditional statements: **if-elif-else**\n",
        "4. Functions: **range(), len(), print()**\n",
        "\n",
        "## Tasks\n",
        "\n",
        "#### 1. Create two variables called `gandalf` and `saruman` and assign them the spell power lists. Create a variable called `spells` to store the number of spells that the sorcerers cast. "
      ]
    },
    {
      "cell_type": "code",
      "metadata": {
        "id": "b2_kRJyKjWoh"
      },
      "source": [
        "gandalf = [10, 11, 13, 30, 22, 11, 10, 33, 22, 22]\n",
        "saruman = [23, 66, 12, 43, 12, 10, 44, 23, 12, 17]\n",
        "spells=len(gandalf)"
      ],
      "execution_count": 20,
      "outputs": []
    },
    {
      "cell_type": "markdown",
      "metadata": {
        "id": "NAoxOR4DjWov"
      },
      "source": [
        "#### 2. Create two variables called `gandalf_wins` and `saruman_wins`. Set both of them to 0. \n",
        "You will use these variables to count the number of clashes each sorcerer wins. "
      ]
    },
    {
      "cell_type": "code",
      "metadata": {
        "id": "7pL8cLQUjWox"
      },
      "source": [
        "gandalf_wins=0\n",
        "saruman_wins=0"
      ],
      "execution_count": 21,
      "outputs": []
    },
    {
      "cell_type": "markdown",
      "metadata": {
        "id": "CXW-aCkJjWpA"
      },
      "source": [
        "#### 3. Using the lists of spells of both sorcerers, update variables `gandalf_wins` and `saruman_wins` to count the number of times each sorcerer wins a clash. "
      ]
    },
    {
      "cell_type": "code",
      "metadata": {
        "id": "nshs7ievjWpB"
      },
      "source": [
        "i=0\n",
        "if (i<=spells):\n",
        "    if gandalf[i] > saruman[i]:\n",
        "        gandalf_wins += 1\n",
        "    elif gandalf[i] < saruman[i]:\n",
        "        saruman_wins += 1"
      ],
      "execution_count": 22,
      "outputs": []
    },
    {
      "cell_type": "markdown",
      "metadata": {
        "id": "47xzaE0WjWpJ"
      },
      "source": [
        "#### 4. Who won the battle?\n",
        "Print `Gandalf wins`, `Saruman wins` or `Tie` depending on the result. "
      ]
    },
    {
      "cell_type": "code",
      "metadata": {
        "id": "Lg--n532jWpM",
        "outputId": "a6e1024d-61b8-4e9f-dd30-ac0e55899904",
        "colab": {
          "base_uri": "https://localhost:8080/",
          "height": 35
        }
      },
      "source": [
        "if (gandalf_wins > saruman_wins):\n",
        "  print(\"Gandalf wins\")\n",
        "elif (saruman_wins > gandalf_wins):\n",
        "  print(\"Saruman wins\")\n",
        "else:\n",
        "  print(\"There is a tie\")"
      ],
      "execution_count": 23,
      "outputs": [
        {
          "output_type": "stream",
          "text": [
            "Saruman wins\n"
          ],
          "name": "stdout"
        }
      ]
    },
    {
      "cell_type": "markdown",
      "metadata": {
        "id": "SLIT_oKAjWpT"
      },
      "source": [
        "## Bonus\n",
        "\n",
        "In this bonus challenge, you'll need to check the winner of the battle but this time, a sorcerer wins if he succeeds in winning 3 spell clashes in a row.\n",
        "\n",
        "Also, the spells now have a name and there is a dictionary that associates that name to a power.\n",
        "\n",
        "```\n",
        "POWER = {\n",
        "    'Fireball': 50, \n",
        "    'Lightning bolt': 40, \n",
        "    'Magic arrow': 10, \n",
        "    'Black Tentacles': 25, \n",
        "    'Contagion': 45\n",
        "}\n",
        "\n",
        "gandalf = ['Fireball', 'Lightning bolt', 'Lightning bolt', 'Magic arrow', 'Fireball', \n",
        "           'Magic arrow', 'Lightning bolt', 'Fireball', 'Fireball', 'Fireball']\n",
        "saruman = ['Contagion', 'Contagion', 'Black Tentacles', 'Fireball', 'Black Tentacles', \n",
        "           'Lightning bolt', 'Magic arrow', 'Contagion', 'Magic arrow', 'Magic arrow']\n",
        "```\n",
        "\n",
        "#### 1. Create variables `POWER`, `gandalf` and `saruman` as seen above. Create a variable called `spells` to store the number of spells that the sorcerers cast. "
      ]
    },
    {
      "cell_type": "code",
      "metadata": {
        "id": "TVCGMdJcjWpU"
      },
      "source": [
        "POWER = {\n",
        "    'Fireball': 50, \n",
        "    'Lightning bolt': 40, \n",
        "    'Magic arrow': 10, \n",
        "    'Black Tentacles': 25, \n",
        "    'Contagion': 45\n",
        "}\n",
        " \n",
        "gandalf = ['Fireball', 'Lightning bolt', 'Lightning bolt', 'Magic arrow', 'Fireball', \n",
        "           'Magic arrow', 'Lightning bolt', 'Fireball', 'Fireball', 'Fireball']\n",
        "saruman = ['Contagion', 'Contagion', 'Black Tentacles', 'Fireball', 'Black Tentacles', \n",
        "           'Lightning bolt', 'Magic arrow', 'Contagion', 'Magic arrow', 'Magic arrow']\n",
        "spells=len(gandalf)"
      ],
      "execution_count": 24,
      "outputs": []
    },
    {
      "cell_type": "markdown",
      "metadata": {
        "id": "VDnme7nYjWpd"
      },
      "source": [
        "#### 2. Create two variables called `gandalf_wins` and `saruman_wins`. Set both of them to 0. "
      ]
    },
    {
      "cell_type": "code",
      "metadata": {
        "id": "6PwOcHYjjWpf"
      },
      "source": [
        "gandalf_wins=0\n",
        "saruman_wins=0"
      ],
      "execution_count": 25,
      "outputs": []
    },
    {
      "cell_type": "markdown",
      "metadata": {
        "id": "dz7G8VzXjWpk"
      },
      "source": [
        "#### 3. Create two variables called `gandalf_power` and `saruman_power` to store the list of spell powers of each sorcerer."
      ]
    },
    {
      "cell_type": "code",
      "metadata": {
        "id": "gFHw6ixGjWpl",
        "outputId": "d7e3da7c-3d69-45fc-ab19-d3dfe6d1eb28",
        "colab": {
          "base_uri": "https://localhost:8080/",
          "height": 54
        }
      },
      "source": [
        "gandalf_power=[]\n",
        "for i in gandalf:\n",
        "  gandalf_power.append(POWER[i])\n",
        "saruman_power=[]\n",
        "for i in saruman:\n",
        "  saruman_power.append(POWER[i])\n",
        "print(gandalf_power)\n",
        "print(saruman_power)"
      ],
      "execution_count": 26,
      "outputs": [
        {
          "output_type": "stream",
          "text": [
            "[50, 40, 40, 10, 50, 10, 40, 50, 50, 50]\n",
            "[45, 45, 25, 50, 25, 40, 10, 45, 10, 10]\n"
          ],
          "name": "stdout"
        }
      ]
    },
    {
      "cell_type": "markdown",
      "metadata": {
        "id": "UxyMiPQtjWpr"
      },
      "source": [
        "#### 4. The battle starts! Using the variables you've created above, code the execution of spell clashes. Remember that a sorcerer wins if he succeeds in winning 3 spell clashes in a row. \n",
        "If a clash ends up in a tie, the counter of wins in a row is not restarted to 0. Remember to print who is the winner of the battle. "
      ]
    },
    {
      "cell_type": "code",
      "metadata": {
        "id": "jRR2foTXjWps",
        "outputId": "b536d519-f124-4540-afa7-aebc9579c09d",
        "colab": {
          "base_uri": "https://localhost:8080/",
          "height": 35
        }
      },
      "source": [
        "saruman_wins=0\n",
        "gandalf_wins=0\n",
        "i=0\n",
        "while i <= spells:\n",
        "  if (gandalf_wins<3 and saruman_wins<3):\n",
        "    if gandalf_power[i] > saruman_power[i]:\n",
        "      gandalf_wins+=1\n",
        "    elif saruman_power[i] > gandalf_power[i] :\n",
        "      saruman_wins+=1\n",
        "  elif (gandalf_wins==3):\n",
        "    print(\"Gandalf Wins\")\n",
        "    break\n",
        "  elif (saruman_wins==3):\n",
        "    print(\"Saruman Wins\")\n",
        "    break\n",
        "  i+=1\n",
        "\n",
        "\n"
      ],
      "execution_count": 27,
      "outputs": [
        {
          "output_type": "stream",
          "text": [
            "Gandalf Wins\n"
          ],
          "name": "stdout"
        }
      ]
    },
    {
      "cell_type": "markdown",
      "metadata": {
        "id": "vtEnXiqjjWpy"
      },
      "source": [
        "#### 5. Find the average spell power of Gandalf and Saruman. "
      ]
    },
    {
      "cell_type": "code",
      "metadata": {
        "id": "23OZAlGTjWpz",
        "outputId": "8abc5afe-cbf6-4d60-a34b-1bc0c81f7c67",
        "colab": {
          "base_uri": "https://localhost:8080/",
          "height": 54
        }
      },
      "source": [
        "avg_gandalf=(sum(gandalf_power))/spells\n",
        "print(\"Average spell power of Gandalf: \", avg_gandalf)\n",
        "avg_saruman=(sum(saruman_power))/spells\n",
        "print(\"Average spell power of Saruman: \", avg_saruman)"
      ],
      "execution_count": 28,
      "outputs": [
        {
          "output_type": "stream",
          "text": [
            "Average spell power of Gandalf:  39.0\n",
            "Average spell power of Saruman:  30.5\n"
          ],
          "name": "stdout"
        }
      ]
    },
    {
      "cell_type": "markdown",
      "metadata": {
        "id": "uA2VWj_jjWp5"
      },
      "source": [
        "#### 6. Find the standard deviation of the spell power of Gandalf and Saruman. "
      ]
    },
    {
      "cell_type": "code",
      "metadata": {
        "id": "VbapY5oYjWp6",
        "outputId": "f86d8258-3bf9-4a76-a12f-a99c07192fea",
        "colab": {
          "base_uri": "https://localhost:8080/",
          "height": 54
        }
      },
      "source": [
        "import statistics\n",
        "stddev_gandalf = statistics.stdev(gandalf_power)\n",
        "stddev_saruman = statistics.stdev(saruman_power)\n",
        "print(\"Standard deviation of powers of Gandal:\", stddev_gandalf)\n",
        "print(\"Standard deviation of powers of Saruman:\", stddev_gandalf)\n"
      ],
      "execution_count": 29,
      "outputs": [
        {
          "output_type": "stream",
          "text": [
            "Standard deviation of powers of Gandal: 15.951314818673865\n",
            "Standard deviation of powers of Saruman: 15.951314818673865\n"
          ],
          "name": "stdout"
        }
      ]
    }
  ]
}