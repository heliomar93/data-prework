{
  "nbformat": 4,
  "nbformat_minor": 0,
  "metadata": {
    "kernelspec": {
      "display_name": "Python 3",
      "language": "python",
      "name": "python3"
    },
    "language_info": {
      "codemirror_mode": {
        "name": "ipython",
        "version": 3
      },
      "file_extension": ".py",
      "mimetype": "text/x-python",
      "name": "python",
      "nbconvert_exporter": "python",
      "pygments_lexer": "ipython3",
      "version": "3.7.2"
    },
    "colab": {
      "name": "rock-paper-scissors.ipynb",
      "provenance": []
    }
  },
  "cells": [
    {
      "cell_type": "markdown",
      "metadata": {
        "id": "M3cUjcqNDxg-"
      },
      "source": [
        "<img src=\"https://bit.ly/2VnXWr2\" width=\"100\" align=\"left\">"
      ]
    },
    {
      "cell_type": "markdown",
      "metadata": {
        "id": "tWz6Ep6_DxhA"
      },
      "source": [
        "# Rock, Paper & Scissors\n",
        "\n",
        "Let's play the famous game against our computer. You can check the rules [here](https://en.wikipedia.org/wiki/Rock%E2%80%93paper%E2%80%93scissors). \n",
        "\n",
        "## Task\n",
        "Create a program that imitates the playability of the well known game of rock, paper, scissors. Follow the guidelines provided.\n",
        "\n",
        "## Tools\n",
        "1. Loop: **for/while**\n",
        "2. Functions: **input(), print()...**\n",
        "3. Conditional statements: **if, elif, else**\n",
        "4. Definition of functions. Modular programming\n",
        "5. Import modules\n",
        "\n",
        "**To solve this challenge, the use of functions is recommended.**\n",
        "\n",
        "#### 1. Import the choice function of the random module."
      ]
    },
    {
      "cell_type": "code",
      "metadata": {
        "id": "mh_zZvBzDxhD"
      },
      "source": [
        "import random"
      ],
      "execution_count": 24,
      "outputs": []
    },
    {
      "cell_type": "markdown",
      "metadata": {
        "id": "VNXXZ3RYDxhS"
      },
      "source": [
        "#### 2. Create a list that includes the 3 possible gesture options of the game: 'rock', 'paper' or 'scissors'. Store the list in a variable called `gestures`."
      ]
    },
    {
      "cell_type": "code",
      "metadata": {
        "id": "D1zcGlnJDxhV"
      },
      "source": [
        "gestures=[\"rock\",\"paper\",\"scissors\"]"
      ],
      "execution_count": 2,
      "outputs": []
    },
    {
      "cell_type": "markdown",
      "metadata": {
        "id": "GgYcAGjUDxhg"
      },
      "source": [
        "#### 3. Create a variable called `n_rounds` to store the maximum number of rounds to play in a game. \n",
        "Remember that the number of rounds must be odd: 1, 3, 5, ..."
      ]
    },
    {
      "cell_type": "code",
      "metadata": {
        "id": "QrfSRRpXDxhi",
        "outputId": "2a374dd2-8ecc-4247-f96b-70a1b54ead6a",
        "colab": {
          "base_uri": "https://localhost:8080/",
          "height": 35
        }
      },
      "source": [
        "n_rounds=int(input(\"Numbers of rounds:\"))\n",
        "while n_rounds % 2 ==0:\n",
        "  n_rounds=int(input(\"The number must be even :\"))\n"
      ],
      "execution_count": 62,
      "outputs": [
        {
          "output_type": "stream",
          "text": [
            "Numbers of rounds:3\n"
          ],
          "name": "stdout"
        }
      ]
    },
    {
      "cell_type": "markdown",
      "metadata": {
        "id": "3l7KaErBDxhp"
      },
      "source": [
        "#### 4. Create a variable called `rounds_to_win` to store the number of rounds that a player must win to win the game.\n",
        "**Hint**: the value stored in `rounds_to_win` depends on the value of `n_rounds`. "
      ]
    },
    {
      "cell_type": "code",
      "metadata": {
        "id": "cWDBNDELDxhr",
        "outputId": "312d2f05-65b3-4ab4-914d-d28657f18a78",
        "colab": {
          "base_uri": "https://localhost:8080/",
          "height": 35
        }
      },
      "source": [
        "rounds_to_win=int((n_rounds/2)+1)\n",
        "print(rounds_to_win)"
      ],
      "execution_count": 63,
      "outputs": [
        {
          "output_type": "stream",
          "text": [
            "2\n"
          ],
          "name": "stdout"
        }
      ]
    },
    {
      "cell_type": "markdown",
      "metadata": {
        "id": "7ksHbD2jDxhz"
      },
      "source": [
        "#### 5. Create two variables to store the number of rounds that the computer and the player have won. Call these variables `cpu_score` and `player_score`."
      ]
    },
    {
      "cell_type": "code",
      "metadata": {
        "id": "XLxS4WqpDxh1"
      },
      "source": [
        "cpu_score=0\n",
        "player_score=0\n"
      ],
      "execution_count": 15,
      "outputs": []
    },
    {
      "cell_type": "markdown",
      "metadata": {
        "id": "8OG1fcTdDxiB"
      },
      "source": [
        "#### 6. Define a function that randomly returns one of the 3 gesture options.\n",
        "You will use this function to simulate the gesture choice of the computer. "
      ]
    },
    {
      "cell_type": "code",
      "metadata": {
        "id": "a9igmkW1DxiD"
      },
      "source": [
        "def cpu_gesture():\n",
        "  gestures=['rock','paper','scissors']\n",
        "  return gestures[random.randint(0, 3)]\n"
      ],
      "execution_count": 60,
      "outputs": []
    },
    {
      "cell_type": "markdown",
      "metadata": {
        "id": "S2WmNE5vDxiI"
      },
      "source": [
        "#### 7. Define a function that asks the player which is the gesture he or she wants to show: 'rock', 'paper' or 'scissors'.\n",
        "The player should only be allowed to choose one of the 3 gesture options. If the player's choice is not rock, paper or scissors, keep asking until it is."
      ]
    },
    {
      "cell_type": "code",
      "metadata": {
        "id": "Wi_bwPInDxiJ"
      },
      "source": [
        "def player_gesture():\n",
        "  player_gesture=input(\"Choose your gesture ('rock', 'paper' os 'scissors')\")\n",
        "  gestures=['rock','paper','scissors']\n",
        "  if player_gesture not in gestures:\n",
        "    player_gesture=input(\"Choose a correct option(rock, paper os scissors)\")\n",
        "  else:\n",
        "    print(\"Wait the computer\")"
      ],
      "execution_count": 58,
      "outputs": []
    },
    {
      "cell_type": "markdown",
      "metadata": {
        "id": "jhqeWCFVDxiR"
      },
      "source": [
        "#### 8. Define a function that checks who won a round. \n",
        "The function should return 0 if there is a tie, 1 if the computer wins and 2 if the player wins."
      ]
    },
    {
      "cell_type": "code",
      "metadata": {
        "id": "t00kLPwoDxiS"
      },
      "source": [
        "def result():\n",
        "  player_gesture = player_gesture()\n",
        "  cpu_gesture = cpu_gesture()\n",
        "  if cpu_gesture==\"rock\" and player_gesture==\"rock\":\n",
        "    return 0\n",
        "  elif cpu_gesture==\"rock\" and player_gesture==\"paper\":\n",
        "    return 1\n",
        "  elif cpu_gesture==\"rock\" and player_gesture==\"scissors\":\n",
        "    return 2\n",
        "  elif cpu_gesture==\"paper\" and player_gesture==\"rock\":\n",
        "    return 1\n",
        "  elif cpu_gesture==\"paper\" and player_gesture==\"paper\":\n",
        "    return 0\n",
        "  elif cpu_gesture==\"paper\" and player_gesture==\"scissors\":\n",
        "    return 2\n",
        "  elif cpu_gesture==\"scissors\" and player_gesture==\"rock\":\n",
        "    return 2\n",
        "  elif cpu_choise==\"scissors\" and player_gesture==\"paper\":\n",
        "    return 1\n",
        "  elif cpu_choise==\"scissors\" and player_gesture==\"scissors\":\n",
        "    return 0"
      ],
      "execution_count": 57,
      "outputs": []
    },
    {
      "cell_type": "markdown",
      "metadata": {
        "id": "i9oLHKx2DxiZ"
      },
      "source": [
        "#### 9. Define a function that prints the choice of the computer, the choice of the player and a message that announces who won the current round. \n",
        "You should also use this function to update the variables that count the number of rounds that the computer and the player have won. The score of the winner increases by one point. If there is a tie, the score does not increase."
      ]
    },
    {
      "cell_type": "code",
      "metadata": {
        "id": "pz9MxSyHDxia"
      },
      "source": [
        "def games():\n",
        "  print(\"Choice of the computer : \", cpu_gesture())\n",
        "  print(\"The choice of the player\", player_gesture())\n",
        "  if result() == 0:\n",
        "    print(\"There is a tie\")\n",
        "  elif result() == 1:\n",
        "    print(\"Computer wins\")\n",
        "    cpu_score += 1\n",
        "  elif result() == 2:\n",
        "    print(\" Player wins\")\n",
        "    player_score +=1"
      ],
      "execution_count": 56,
      "outputs": []
    },
    {
      "cell_type": "markdown",
      "metadata": {
        "id": "zf0YO0YjDxii"
      },
      "source": [
        "#### 10. Now it's time to code the execution of the game using the functions and variables you defined above. \n",
        "\n",
        "First, create a loop structure that repeats while no player reaches the minimum score necessary to win and the number of rounds is less than the maximum number of rounds to play in a game.  \n",
        "\n",
        "Inside the loop, use the functions and variables above to create the execution of a round: ask for the player's choice, generate the random choice of the computer, show the round results, update the scores, etc. "
      ]
    },
    {
      "cell_type": "code",
      "metadata": {
        "id": "lm6S-BAmDxik"
      },
      "source": [
        "player_score=0\n",
        "cpu_score=0\n",
        "round=0\n",
        "n_rounds=0\n",
        "rounds_to_win=0\n",
        "while round < n_rounds or cpu_score < rounds_to_win or player_score < rounds_to_win :\n",
        "   player_gesture()\n",
        "   cpu_gesture()\n",
        "   result()\n",
        "   games()\n",
        "   round += 1\n"
      ],
      "execution_count": 68,
      "outputs": []
    },
    {
      "cell_type": "markdown",
      "metadata": {
        "id": "YB0_0T7MDxip"
      },
      "source": [
        "#### 11. Print the winner of the game based on who won more rounds.\n",
        "Remember that the game might be tied. "
      ]
    },
    {
      "cell_type": "code",
      "metadata": {
        "id": "t847eaOsDxir"
      },
      "source": [
        "if player_score > cpu_score:\n",
        "    print(\"Player wins\")\n",
        "  elif cpu_score > player_score:\n",
        "    print(\"Computer wins\")\n",
        "  elif cpu_score == playeer_score:\n",
        "    print(\"There is a tie\")"
      ],
      "execution_count": null,
      "outputs": []
    },
    {
      "cell_type": "markdown",
      "metadata": {
        "id": "l7pPP8zSDxi2"
      },
      "source": [
        "# Bonus: Rock, Paper, Scissors, Lizard & Spock\n",
        "![](images/rpsls.jpg)\n",
        "\n",
        "In this challenge, you need to improve the previous game by adding two new options. To know more about the rules of the improved version of rock, paper, scissors, check this [link](http://www.samkass.com/theories/RPSSL.html). \n",
        "\n",
        "In addition, you will also need to improve how the game interacts with the player: the number of rounds to play, which must be an odd number, will be requested to the user until a valid number is entered. Define a new function to make that request.\n",
        "\n",
        "**Hint**: Try to reuse the code that you already coded in the previous challenge. If your code is efficient, this bonus will only consist of simple modifications to the original game."
      ]
    },
    {
      "cell_type": "code",
      "metadata": {
        "id": "W2WieincDxi2"
      },
      "source": [
        ""
      ],
      "execution_count": null,
      "outputs": []
    }
  ]
}