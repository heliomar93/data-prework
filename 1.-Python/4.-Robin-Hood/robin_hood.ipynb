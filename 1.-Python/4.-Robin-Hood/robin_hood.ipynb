{
  "nbformat": 4,
  "nbformat_minor": 0,
  "metadata": {
    "kernelspec": {
      "display_name": "Python 3",
      "language": "python",
      "name": "python3"
    },
    "language_info": {
      "codemirror_mode": {
        "name": "ipython",
        "version": 3
      },
      "file_extension": ".py",
      "mimetype": "text/x-python",
      "name": "python",
      "nbconvert_exporter": "python",
      "pygments_lexer": "ipython3",
      "version": "3.7.2"
    },
    "colab": {
      "name": "robin-hood.ipynb",
      "provenance": []
    }
  },
  "cells": [
    {
      "cell_type": "markdown",
      "metadata": {
        "id": "yS3zZ3PHymWW"
      },
      "source": [
        "<img src=\"https://bit.ly/2VnXWr2\" width=\"100\" align=\"left\"/>"
      ]
    },
    {
      "cell_type": "markdown",
      "metadata": {
        "id": "Vxv0WFoIymWa"
      },
      "source": [
        "# Robin Hood\n",
        "Robin Hood has entered a competition to win the archery contest in Sherwood. With his bow and arrows, he needs to shoot on a target and try to hit as close as possible to the center.\n",
        "\n",
        "![](images/arrows.jpg)\n",
        "\n",
        "## Context\n",
        "In this challenge, the landing position of arrows shot by archers in the competition will be represented using 2-dimensional coordinates. \n",
        "\n",
        "In the 2-dimensional space, a point can be defined by a pair of values that correspond to the horizontal coordinate (x) and the vertical coordinate (y). For example, in our case, an arrow that hits the center of the archery target will land in position (0, 0) on the coordinate axes. \n",
        "\n",
        "The space can be divided into 4 zones (quadrants): Q1, Q2, Q3, Q4. If a point is in Q1, both its x coordinate and y coordinate are positive. Any point with a null x or y coordinate is considered to not belong to any quadrant. \n",
        "\n",
        "If you want to know more about the cartesian coordinate system, you can check this [link](https://en.wikipedia.org/wiki/Cartesian_coordinate_system). \n",
        "\n",
        "## Tools\n",
        "You don't necessarily need to use all the tools. Maybe you opt to use some of them or completely different ones, they are given to help you shape the exercise. Programming exercises can be solved in many different ways.\n",
        "* Data structures: **lists, sets, tuples**\n",
        "* Conditional statements: **if-elif-else**\n",
        "* Loop: **while/for**\n",
        "* Minimum (optional sorting)\n",
        "\n",
        "## Tasks\n",
        "Robin Hood has hit the following points:"
      ]
    },
    {
      "cell_type": "code",
      "metadata": {
        "id": "84jCVs4gymWe"
      },
      "source": [
        "points = [(4, 5), (-0, 2), (4, 7), (1, -3), (3, -2), (4, 5), (3, 2), (5, 7), (-5, 7), (2, 2), (-4, 5), (0, -2),\n",
        "          (-4, 7), (-1, 3), (-3, 2), (-4, -5), (-3, 2), (5, 7), (5, 7), (2, 2), (9, 9), (-8, -9)]"
      ],
      "execution_count": 19,
      "outputs": []
    },
    {
      "cell_type": "markdown",
      "metadata": {
        "id": "Qdk8-qLCymW9"
      },
      "source": [
        "#### 1. Robin Hood is famous for hitting an arrow with another arrow. Find the coordinates of the points where an arrow hits another arrow."
      ]
    },
    {
      "cell_type": "code",
      "metadata": {
        "id": "gdpbV3uPymXM",
        "outputId": "61faafea-eaa1-4dd0-edd2-b448cc933837",
        "colab": {
          "base_uri": "https://localhost:8080/",
          "height": 35
        }
      },
      "source": [
        "double_hit = []\n",
        "for i in range(len(points)):\n",
        "    if points[i] in points[i+1:]:\n",
        "        double_hit.append(points[i])\n",
        "print(double_hit)\n",
        "\n"
      ],
      "execution_count": 9,
      "outputs": [
        {
          "output_type": "stream",
          "text": [
            "[(4, 5), (5, 7), (2, 2), (-3, 2), (5, 7)]\n"
          ],
          "name": "stdout"
        }
      ]
    },
    {
      "cell_type": "markdown",
      "metadata": {
        "id": "7FyoEj04ymXj"
      },
      "source": [
        "#### 2. Calculate how many arrows have fallen in each quadrant. \n",
        "**Note**: the arrows that fall in the axis (x=0 or y=0) don't belong to any quadrant."
      ]
    },
    {
      "cell_type": "code",
      "metadata": {
        "id": "fCLqzrT5ymXq",
        "outputId": "f7c3e77b-4650-4bd2-9fa7-0d0355104eba",
        "colab": {
          "base_uri": "https://localhost:8080/",
          "height": 90
        }
      },
      "source": [
        "q1=0\n",
        "q2=0\n",
        "q3=0\n",
        "q4=0\n",
        "i=0\n",
        "while i < len(points):\n",
        "  for x,y in points[i:i+1]:\n",
        "    if x > 0 and y>0:\n",
        "      q1 += 1\n",
        "    elif x < 0 and y > 0:\n",
        "      q2 += 1\n",
        "    elif x < 0 and y < 0:\n",
        "      q3 += 1\n",
        "    elif x > 0 and y < 0:\n",
        "      q4 += 1\n",
        "  i+=1\n",
        "print(q1 , \" arrows in first quadrant\")\n",
        "print(q2 , \" arrows in second quadrant\")\n",
        "print(q3 , \" arrows in third quadrant\")\n",
        "print(q4 , \" arrows in fourth quadrant\")\n"
      ],
      "execution_count": 21,
      "outputs": [
        {
          "output_type": "stream",
          "text": [
            "10  arrows in first quadrant\n",
            "6  arrows in second quadrant\n",
            "2  arrows in third quadrant\n",
            "2  arrows in fourth quadrant\n"
          ],
          "name": "stdout"
        }
      ]
    },
    {
      "cell_type": "markdown",
      "metadata": {
        "id": "Hg5nU4kgymX0"
      },
      "source": [
        "#### 3. Find the point closest to the center. Calculate its distance to the center. \n",
        "Take into account that there might be more than one point at the minimum distance to the center.\n",
        "\n",
        "**Hint**: Use the Euclidean distance. You can find more information about it [here](https://en.wikipedia.org/wiki/Euclidean_distance).  \n",
        "**Hint**: Defining a function that calculates the distance to the center can help."
      ]
    },
    {
      "cell_type": "code",
      "metadata": {
        "id": "dixVyr0rymX1",
        "outputId": "be95f76f-4ee1-479d-947b-570a93efea12",
        "colab": {
          "base_uri": "https://localhost:8080/",
          "height": 35
        }
      },
      "source": [
        "import math\n",
        "distances=[]\n",
        "count=0\n",
        "while count < len(points):\n",
        "  for x,y in points[count:count+1]:\n",
        "   distance=math.sqrt(x*x+y*y)\n",
        "   distances.append(distance)\n",
        "  count+=1\n",
        "minimum = min(distances)\n",
        "index_of_minimum = distances.index(minimum)\n",
        "print(\"The minimum distance to the center is \", minimum,\" hit by the arrow \", points[index_of_minimum])\n"
      ],
      "execution_count": 31,
      "outputs": [
        {
          "output_type": "stream",
          "text": [
            "The minimum distance to the center is  2.0  hit by the arrow  (0, 2)\n"
          ],
          "name": "stdout"
        }
      ]
    },
    {
      "cell_type": "markdown",
      "metadata": {
        "id": "gv6U9aDMymYA"
      },
      "source": [
        "#### 4. If the archery target has a radius of 9, calculate the number of arrows that won't hit the target. \n",
        "**Hint**: Use the function created in step 3. "
      ]
    },
    {
      "cell_type": "code",
      "metadata": {
        "id": "TKFpTnaSymYD",
        "outputId": "0d69bc5b-75da-4495-f1f1-66736492aa9b",
        "colab": {
          "base_uri": "https://localhost:8080/",
          "height": 35
        }
      },
      "source": [
        "out_target=0\n",
        "for i in distances:\n",
        "  if i>9:\n",
        "    out_target +=1\n",
        "print(\"Arrows that didn't hit the target: \",out_target)"
      ],
      "execution_count": 48,
      "outputs": [
        {
          "output_type": "stream",
          "text": [
            "Arrows that didn't hit the target:  2\n"
          ],
          "name": "stdout"
        }
      ]
    }
  ]
}